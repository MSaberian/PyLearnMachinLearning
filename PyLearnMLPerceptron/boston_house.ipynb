{
 "cells": [
  {
   "cell_type": "code",
   "execution_count": 1,
   "metadata": {},
   "outputs": [],
   "source": [
    "%matplotlib qt\n",
    "import pandas as pd\n",
    "import numpy as np\n",
    "import matplotlib.pyplot as plt\n",
    "from sklearn.model_selection import train_test_split\n",
    "from scipy import stats\n",
    "from sklearn.datasets import load_boston\n",
    "from perceptron import Perceptron"
   ]
  },
  {
   "cell_type": "code",
   "execution_count": 2,
   "metadata": {},
   "outputs": [
    {
     "name": "stderr",
     "output_type": "stream",
     "text": [
      "C:\\Users\\moham\\AppData\\Roaming\\Python\\Python310\\site-packages\\sklearn\\utils\\deprecation.py:87: FutureWarning: Function load_boston is deprecated; `load_boston` is deprecated in 1.0 and will be removed in 1.2.\n",
      "\n",
      "    The Boston housing prices dataset has an ethical problem. You can refer to\n",
      "    the documentation of this function for further details.\n",
      "\n",
      "    The scikit-learn maintainers therefore strongly discourage the use of this\n",
      "    dataset unless the purpose of the code is to study and educate about\n",
      "    ethical issues in data science and machine learning.\n",
      "\n",
      "    In this special case, you can fetch the dataset from the original\n",
      "    source::\n",
      "\n",
      "        import pandas as pd\n",
      "        import numpy as np\n",
      "\n",
      "        data_url = \"http://lib.stat.cmu.edu/datasets/boston\"\n",
      "        raw_df = pd.read_csv(data_url, sep=\"\\s+\", skiprows=22, header=None)\n",
      "        data = np.hstack([raw_df.values[::2, :], raw_df.values[1::2, :2]])\n",
      "        target = raw_df.values[1::2, 2]\n",
      "\n",
      "    Alternative datasets include the California housing dataset (i.e.\n",
      "    :func:`~sklearn.datasets.fetch_california_housing`) and the Ames housing\n",
      "    dataset. You can load the datasets as follows::\n",
      "\n",
      "        from sklearn.datasets import fetch_california_housing\n",
      "        housing = fetch_california_housing()\n",
      "\n",
      "    for the California housing dataset and::\n",
      "\n",
      "        from sklearn.datasets import fetch_openml\n",
      "        housing = fetch_openml(name=\"house_prices\", as_frame=True)\n",
      "\n",
      "    for the Ames housing dataset.\n",
      "  warnings.warn(msg, category=FutureWarning)\n"
     ]
    }
   ],
   "source": [
    "breast_cancer = load_boston()\n",
    "X = breast_cancer.data\n",
    "Y = breast_cancer.target\n",
    "Y = Y.reshape(-1, 1)"
   ]
  },
  {
   "cell_type": "code",
   "execution_count": 3,
   "metadata": {},
   "outputs": [
    {
     "data": {
      "text/html": [
       "<div>\n",
       "<style scoped>\n",
       "    .dataframe tbody tr th:only-of-type {\n",
       "        vertical-align: middle;\n",
       "    }\n",
       "\n",
       "    .dataframe tbody tr th {\n",
       "        vertical-align: top;\n",
       "    }\n",
       "\n",
       "    .dataframe thead th {\n",
       "        text-align: right;\n",
       "    }\n",
       "</style>\n",
       "<table border=\"1\" class=\"dataframe\">\n",
       "  <thead>\n",
       "    <tr style=\"text-align: right;\">\n",
       "      <th></th>\n",
       "      <th>0</th>\n",
       "      <th>1</th>\n",
       "      <th>2</th>\n",
       "      <th>3</th>\n",
       "      <th>4</th>\n",
       "      <th>5</th>\n",
       "      <th>6</th>\n",
       "      <th>7</th>\n",
       "      <th>8</th>\n",
       "      <th>9</th>\n",
       "      <th>10</th>\n",
       "      <th>11</th>\n",
       "      <th>12</th>\n",
       "      <th>13</th>\n",
       "    </tr>\n",
       "  </thead>\n",
       "  <tbody>\n",
       "    <tr>\n",
       "      <th>0</th>\n",
       "      <td>1.0</td>\n",
       "      <td>-0.388305</td>\n",
       "      <td>0.360445</td>\n",
       "      <td>-0.483725</td>\n",
       "      <td>0.17526</td>\n",
       "      <td>-0.427321</td>\n",
       "      <td>0.69536</td>\n",
       "      <td>-0.376955</td>\n",
       "      <td>0.249929</td>\n",
       "      <td>-0.381626</td>\n",
       "      <td>-0.468536</td>\n",
       "      <td>-0.507787</td>\n",
       "      <td>0.333461</td>\n",
       "      <td>-0.737663</td>\n",
       "    </tr>\n",
       "  </tbody>\n",
       "</table>\n",
       "</div>"
      ],
      "text/plain": [
       "    0         1         2         3        4         5        6         7   \\\n",
       "0  1.0 -0.388305  0.360445 -0.483725  0.17526 -0.427321  0.69536 -0.376955   \n",
       "\n",
       "         8         9         10        11        12        13  \n",
       "0  0.249929 -0.381626 -0.468536 -0.507787  0.333461 -0.737663  "
      ]
     },
     "execution_count": 3,
     "metadata": {},
     "output_type": "execute_result"
    }
   ],
   "source": [
    "data_np = np.concatenate((Y, X), axis=1)\n",
    "data = pd.DataFrame(data_np)\n",
    "cor = data.corr()\n",
    "cor.head(1)"
   ]
  },
  {
   "cell_type": "code",
   "execution_count": 4,
   "metadata": {},
   "outputs": [
    {
     "name": "stderr",
     "output_type": "stream",
     "text": [
      "C:\\Users\\moham\\AppData\\Local\\Temp\\ipykernel_13188\\3963391592.py:2: SettingWithCopyWarning: \n",
      "A value is trying to be set on a copy of a slice from a DataFrame\n",
      "\n",
      "See the caveats in the documentation: https://pandas.pydata.org/pandas-docs/stable/user_guide/indexing.html#returning-a-view-versus-a-copy\n",
      "  data_selected.rename(columns={0: 'PRICE', 2: 'ZN', 6: 'RM'}, inplace=True)\n"
     ]
    },
    {
     "data": {
      "text/html": [
       "<div>\n",
       "<style scoped>\n",
       "    .dataframe tbody tr th:only-of-type {\n",
       "        vertical-align: middle;\n",
       "    }\n",
       "\n",
       "    .dataframe tbody tr th {\n",
       "        vertical-align: top;\n",
       "    }\n",
       "\n",
       "    .dataframe thead th {\n",
       "        text-align: right;\n",
       "    }\n",
       "</style>\n",
       "<table border=\"1\" class=\"dataframe\">\n",
       "  <thead>\n",
       "    <tr style=\"text-align: right;\">\n",
       "      <th></th>\n",
       "      <th>PRICE</th>\n",
       "      <th>ZN</th>\n",
       "      <th>RM</th>\n",
       "    </tr>\n",
       "  </thead>\n",
       "  <tbody>\n",
       "    <tr>\n",
       "      <th>0</th>\n",
       "      <td>24.0</td>\n",
       "      <td>18.0</td>\n",
       "      <td>6.575</td>\n",
       "    </tr>\n",
       "    <tr>\n",
       "      <th>1</th>\n",
       "      <td>21.6</td>\n",
       "      <td>0.0</td>\n",
       "      <td>6.421</td>\n",
       "    </tr>\n",
       "    <tr>\n",
       "      <th>2</th>\n",
       "      <td>34.7</td>\n",
       "      <td>0.0</td>\n",
       "      <td>7.185</td>\n",
       "    </tr>\n",
       "    <tr>\n",
       "      <th>3</th>\n",
       "      <td>33.4</td>\n",
       "      <td>0.0</td>\n",
       "      <td>6.998</td>\n",
       "    </tr>\n",
       "    <tr>\n",
       "      <th>4</th>\n",
       "      <td>36.2</td>\n",
       "      <td>0.0</td>\n",
       "      <td>7.147</td>\n",
       "    </tr>\n",
       "  </tbody>\n",
       "</table>\n",
       "</div>"
      ],
      "text/plain": [
       "   PRICE    ZN     RM\n",
       "0   24.0  18.0  6.575\n",
       "1   21.6   0.0  6.421\n",
       "2   34.7   0.0  7.185\n",
       "3   33.4   0.0  6.998\n",
       "4   36.2   0.0  7.147"
      ]
     },
     "execution_count": 4,
     "metadata": {},
     "output_type": "execute_result"
    }
   ],
   "source": [
    "data_selected = data[[0, 2, 6]]\n",
    "data_selected.rename(columns={0: 'PRICE', 2: 'ZN', 6: 'RM'}, inplace=True)\n",
    "data_selected.head(5)"
   ]
  },
  {
   "cell_type": "code",
   "execution_count": 5,
   "metadata": {},
   "outputs": [],
   "source": [
    "Y = data_selected['PRICE'].to_numpy()\n",
    "X_train, X_test, Y_train, Y_test = train_test_split(data_selected[['ZN', 'RM']].to_numpy(), Y, test_size=0.2, shuffle=True)"
   ]
  },
  {
   "cell_type": "code",
   "execution_count": 17,
   "metadata": {},
   "outputs": [
    {
     "name": "stdout",
     "output_type": "stream",
     "text": [
      "η1: 0.0001, η2: 0.01, loss_train: 45.30087\n",
      "η1: 0.0001, η2: 0.03, loss_train: 44.02533\n",
      "η1: 0.0001, η2: 0.05, loss_train: 44.11617\n",
      "η1: 0.0001, η2: 0.07, loss_train: 44.41645\n",
      "η1: 0.0001, η2: 0.09, loss_train: 44.61916\n",
      "η1: 0.0003, η2: 0.01, loss_train: 42.71344\n",
      "η1: 0.0003, η2: 0.03, loss_train: 42.82902\n",
      "η1: 0.0003, η2: 0.05, loss_train: 43.17183\n",
      "η1: 0.0003, η2: 0.07, loss_train: 43.52143\n",
      "η1: 0.0003, η2: 0.09, loss_train: 43.83879\n",
      "η1: 0.0005, η2: 0.01, loss_train: 42.81222\n",
      "η1: 0.0005, η2: 0.03, loss_train: 43.02921\n",
      "η1: 0.0005, η2: 0.05, loss_train: 43.33667\n",
      "η1: 0.0005, η2: 0.07, loss_train: 43.65013\n",
      "η1: 0.0005, η2: 0.09, loss_train: 43.95578\n",
      "η1: 0.0007, η2: 0.01, loss_train: 43.57593\n",
      "η1: 0.0007, η2: 0.03, loss_train: 43.67463\n",
      "η1: 0.0007, η2: 0.05, loss_train: 43.88655\n",
      "η1: 0.0007, η2: 0.07, loss_train: 44.17933\n",
      "η1: 0.0007, η2: 0.09, loss_train: 44.51317\n",
      "η1: 0.0009, η2: 0.01, loss_train: 507228426895.37958\n",
      "η1: 0.0009, η2: 0.03, loss_train: 7841971259591525138432.00000\n",
      "η1: 0.0009, η2: 0.05, loss_train: 1747598478943087230976.00000\n",
      "η1: 0.0009, η2: 0.07, loss_train: 2242196596454.57617\n",
      "η1: 0.0009, η2: 0.09, loss_train: 45.73124\n"
     ]
    }
   ],
   "source": [
    "loss_trains = []\n",
    "losss = []\n",
    "η1s = []\n",
    "η2s = []\n",
    "for η1 in np.arange(0.0001, 0.001, 0.0002):\n",
    "    for η2 in np.arange(.01, .1, .02):\n",
    "        p = Perceptron(η1, η2, 150)\n",
    "        loss_train = p.fit(X_train, Y_train)\n",
    "        loss_trains.append({'η1': η1, 'η2': η1, 'loss_train': loss_train})\n",
    "        losss.append(loss_train)\n",
    "        η1s.append(η1)\n",
    "        η2s.append(η2)\n",
    "        print(f'η1: {\"{:.4f}\".format(η1)}, η2: {\"{:.2f}\".format(η2)}, loss_train: {\"{:.5f}\".format(loss_train)}')"
   ]
  },
  {
   "cell_type": "code",
   "execution_count": 21,
   "metadata": {},
   "outputs": [],
   "source": [
    "# η1 = 0.0003\n",
    "# η2 = 0.01\n",
    "\n",
    "η1 = 0.00003\n",
    "η2 = 0.001"
   ]
  },
  {
   "cell_type": "code",
   "execution_count": 18,
   "metadata": {},
   "outputs": [],
   "source": [
    "i = np.argmin(losss)\n",
    "η1 = η1s[i]\n",
    "η2 = η2s[i]"
   ]
  },
  {
   "cell_type": "code",
   "execution_count": 26,
   "metadata": {},
   "outputs": [
    {
     "name": "stdout",
     "output_type": "stream",
     "text": [
      "loss_train: 55.5159411768442\n"
     ]
    }
   ],
   "source": [
    "p = Perceptron(η1, η2, 150)\n",
    "loss_train = p.fit(X_train, Y_train)\n",
    "Y_pred_train = p.predict(X_train)\n",
    "print('loss_train:', loss_train)"
   ]
  },
  {
   "cell_type": "code",
   "execution_count": 24,
   "metadata": {},
   "outputs": [],
   "source": [
    "p.W = p.W[0]\n",
    "p.W = p.W[::-1] "
   ]
  },
  {
   "cell_type": "code",
   "execution_count": 25,
   "metadata": {},
   "outputs": [],
   "source": [
    "def parameter_surface(w, b):\n",
    "    xy = np.zeros((7, 101,2))\n",
    "    for i in range(7):\n",
    "        for j in range(101):\n",
    "            xy[i, j, :] = [i + 3, j]\n",
    "\n",
    "    xx, yy = np.meshgrid(range(3,10), range(0,101))\n",
    "    z = np.matmul(xy, w) + b\n",
    "    z = z.reshape(z.shape[:2])\n",
    "    return xx, yy, z"
   ]
  },
  {
   "cell_type": "code",
   "execution_count": 29,
   "metadata": {},
   "outputs": [
    {
     "ename": "KeyboardInterrupt",
     "evalue": "",
     "output_type": "error",
     "traceback": [
      "\u001b[1;31m---------------------------------------------------------------------------\u001b[0m",
      "\u001b[1;31mKeyboardInterrupt\u001b[0m                         Traceback (most recent call last)",
      "Cell \u001b[1;32mIn[29], line 17\u001b[0m\n\u001b[0;32m     14\u001b[0m xx, yy, z \u001b[39m=\u001b[39m parameter_surface(W, p\u001b[39m.\u001b[39mbs[j])\n\u001b[0;32m     15\u001b[0m ax1\u001b[39m.\u001b[39mplot_surface(xx, yy, z\u001b[39m.\u001b[39mT, alpha\u001b[39m=\u001b[39m\u001b[39m0.4\u001b[39m, color\u001b[39m=\u001b[39m\u001b[39m'\u001b[39m\u001b[39mg\u001b[39m\u001b[39m'\u001b[39m)\n\u001b[1;32m---> 17\u001b[0m ax2\u001b[39m.\u001b[39;49mclear()\n\u001b[0;32m     18\u001b[0m ax2\u001b[39m.\u001b[39mplot(p\u001b[39m.\u001b[39mlosses_train[:j])\n\u001b[0;32m     19\u001b[0m ax2\u001b[39m.\u001b[39mset_title(\u001b[39m\"\u001b[39m\u001b[39mLoss Train\u001b[39m\u001b[39m\"\u001b[39m)\n",
      "File \u001b[1;32m~\\AppData\\Roaming\\Python\\Python310\\site-packages\\matplotlib\\axes\\_base.py:1395\u001b[0m, in \u001b[0;36m_AxesBase.clear\u001b[1;34m(self)\u001b[0m\n\u001b[0;32m   1393\u001b[0m     \u001b[39mself\u001b[39m\u001b[39m.\u001b[39mcla()\n\u001b[0;32m   1394\u001b[0m \u001b[39melse\u001b[39;00m:\n\u001b[1;32m-> 1395\u001b[0m     \u001b[39mself\u001b[39;49m\u001b[39m.\u001b[39;49m__clear()\n",
      "File \u001b[1;32m~\\AppData\\Roaming\\Python\\Python310\\site-packages\\matplotlib\\axes\\_base.py:1281\u001b[0m, in \u001b[0;36m_AxesBase.__clear\u001b[1;34m(self)\u001b[0m\n\u001b[0;32m   1279\u001b[0m     axis\u001b[39m.\u001b[39mclear()  \u001b[39m# Also resets the scale to linear.\u001b[39;00m\n\u001b[0;32m   1280\u001b[0m \u001b[39mfor\u001b[39;00m spine \u001b[39min\u001b[39;00m \u001b[39mself\u001b[39m\u001b[39m.\u001b[39mspines\u001b[39m.\u001b[39mvalues():\n\u001b[1;32m-> 1281\u001b[0m     spine\u001b[39m.\u001b[39;49mclear()\n\u001b[0;32m   1283\u001b[0m \u001b[39mself\u001b[39m\u001b[39m.\u001b[39mignore_existing_data_limits \u001b[39m=\u001b[39m \u001b[39mTrue\u001b[39;00m\n\u001b[0;32m   1284\u001b[0m \u001b[39mself\u001b[39m\u001b[39m.\u001b[39mcallbacks \u001b[39m=\u001b[39m cbook\u001b[39m.\u001b[39mCallbackRegistry(\n\u001b[0;32m   1285\u001b[0m     signals\u001b[39m=\u001b[39m[\u001b[39m\"\u001b[39m\u001b[39mxlim_changed\u001b[39m\u001b[39m\"\u001b[39m, \u001b[39m\"\u001b[39m\u001b[39mylim_changed\u001b[39m\u001b[39m\"\u001b[39m, \u001b[39m\"\u001b[39m\u001b[39mzlim_changed\u001b[39m\u001b[39m\"\u001b[39m])\n",
      "File \u001b[1;32m~\\AppData\\Roaming\\Python\\Python310\\site-packages\\matplotlib\\spines.py:225\u001b[0m, in \u001b[0;36mSpine.clear\u001b[1;34m(self)\u001b[0m\n\u001b[0;32m    223\u001b[0m \u001b[39mself\u001b[39m\u001b[39m.\u001b[39m_position \u001b[39m=\u001b[39m \u001b[39mNone\u001b[39;00m  \u001b[39m# clear position\u001b[39;00m\n\u001b[0;32m    224\u001b[0m \u001b[39mif\u001b[39;00m \u001b[39mself\u001b[39m\u001b[39m.\u001b[39maxis \u001b[39mis\u001b[39;00m \u001b[39mnot\u001b[39;00m \u001b[39mNone\u001b[39;00m:\n\u001b[1;32m--> 225\u001b[0m     \u001b[39mself\u001b[39;49m\u001b[39m.\u001b[39;49maxis\u001b[39m.\u001b[39;49mclear()\n",
      "File \u001b[1;32m~\\AppData\\Roaming\\Python\\Python310\\site-packages\\matplotlib\\axis.py:891\u001b[0m, in \u001b[0;36mAxis.clear\u001b[1;34m(self)\u001b[0m\n\u001b[0;32m    885\u001b[0m \u001b[39mself\u001b[39m\u001b[39m.\u001b[39m_major_tick_kw[\u001b[39m'\u001b[39m\u001b[39mgridOn\u001b[39m\u001b[39m'\u001b[39m] \u001b[39m=\u001b[39m (\n\u001b[0;32m    886\u001b[0m         mpl\u001b[39m.\u001b[39mrcParams[\u001b[39m'\u001b[39m\u001b[39maxes.grid\u001b[39m\u001b[39m'\u001b[39m] \u001b[39mand\u001b[39;00m\n\u001b[0;32m    887\u001b[0m         mpl\u001b[39m.\u001b[39mrcParams[\u001b[39m'\u001b[39m\u001b[39maxes.grid.which\u001b[39m\u001b[39m'\u001b[39m] \u001b[39min\u001b[39;00m (\u001b[39m'\u001b[39m\u001b[39mboth\u001b[39m\u001b[39m'\u001b[39m, \u001b[39m'\u001b[39m\u001b[39mmajor\u001b[39m\u001b[39m'\u001b[39m))\n\u001b[0;32m    888\u001b[0m \u001b[39mself\u001b[39m\u001b[39m.\u001b[39m_minor_tick_kw[\u001b[39m'\u001b[39m\u001b[39mgridOn\u001b[39m\u001b[39m'\u001b[39m] \u001b[39m=\u001b[39m (\n\u001b[0;32m    889\u001b[0m         mpl\u001b[39m.\u001b[39mrcParams[\u001b[39m'\u001b[39m\u001b[39maxes.grid\u001b[39m\u001b[39m'\u001b[39m] \u001b[39mand\u001b[39;00m\n\u001b[0;32m    890\u001b[0m         mpl\u001b[39m.\u001b[39mrcParams[\u001b[39m'\u001b[39m\u001b[39maxes.grid.which\u001b[39m\u001b[39m'\u001b[39m] \u001b[39min\u001b[39;00m (\u001b[39m'\u001b[39m\u001b[39mboth\u001b[39m\u001b[39m'\u001b[39m, \u001b[39m'\u001b[39m\u001b[39mminor\u001b[39m\u001b[39m'\u001b[39m))\n\u001b[1;32m--> 891\u001b[0m \u001b[39mself\u001b[39;49m\u001b[39m.\u001b[39;49mreset_ticks()\n\u001b[0;32m    893\u001b[0m \u001b[39mself\u001b[39m\u001b[39m.\u001b[39mconverter \u001b[39m=\u001b[39m \u001b[39mNone\u001b[39;00m\n\u001b[0;32m    894\u001b[0m \u001b[39mself\u001b[39m\u001b[39m.\u001b[39munits \u001b[39m=\u001b[39m \u001b[39mNone\u001b[39;00m\n",
      "File \u001b[1;32m~\\AppData\\Roaming\\Python\\Python310\\site-packages\\matplotlib\\axis.py:914\u001b[0m, in \u001b[0;36mAxis.reset_ticks\u001b[1;34m(self)\u001b[0m\n\u001b[0;32m    912\u001b[0m     \u001b[39mpass\u001b[39;00m\n\u001b[0;32m    913\u001b[0m \u001b[39mtry\u001b[39;00m:\n\u001b[1;32m--> 914\u001b[0m     \u001b[39mself\u001b[39;49m\u001b[39m.\u001b[39;49mset_clip_path(\u001b[39mself\u001b[39;49m\u001b[39m.\u001b[39;49maxes\u001b[39m.\u001b[39;49mpatch)\n\u001b[0;32m    915\u001b[0m \u001b[39mexcept\u001b[39;00m \u001b[39mAttributeError\u001b[39;00m:\n\u001b[0;32m    916\u001b[0m     \u001b[39mpass\u001b[39;00m\n",
      "File \u001b[1;32m~\\AppData\\Roaming\\Python\\Python310\\site-packages\\matplotlib\\axis.py:1085\u001b[0m, in \u001b[0;36mAxis.set_clip_path\u001b[1;34m(self, clippath, transform)\u001b[0m\n\u001b[0;32m   1083\u001b[0m \u001b[39msuper\u001b[39m()\u001b[39m.\u001b[39mset_clip_path(clippath, transform)\n\u001b[0;32m   1084\u001b[0m \u001b[39mfor\u001b[39;00m child \u001b[39min\u001b[39;00m \u001b[39mself\u001b[39m\u001b[39m.\u001b[39mmajorTicks \u001b[39m+\u001b[39m \u001b[39mself\u001b[39m\u001b[39m.\u001b[39mminorTicks:\n\u001b[1;32m-> 1085\u001b[0m     child\u001b[39m.\u001b[39;49mset_clip_path(clippath, transform)\n\u001b[0;32m   1086\u001b[0m \u001b[39mself\u001b[39m\u001b[39m.\u001b[39mstale \u001b[39m=\u001b[39m \u001b[39mTrue\u001b[39;00m\n",
      "File \u001b[1;32m~\\AppData\\Roaming\\Python\\Python310\\site-packages\\matplotlib\\axis.py:239\u001b[0m, in \u001b[0;36mTick.set_clip_path\u001b[1;34m(self, clippath, transform)\u001b[0m\n\u001b[0;32m    237\u001b[0m \u001b[39mdef\u001b[39;00m \u001b[39mset_clip_path\u001b[39m(\u001b[39mself\u001b[39m, clippath, transform\u001b[39m=\u001b[39m\u001b[39mNone\u001b[39;00m):\n\u001b[0;32m    238\u001b[0m     \u001b[39m# docstring inherited\u001b[39;00m\n\u001b[1;32m--> 239\u001b[0m     \u001b[39msuper\u001b[39;49m()\u001b[39m.\u001b[39;49mset_clip_path(clippath, transform)\n\u001b[0;32m    240\u001b[0m     \u001b[39mself\u001b[39m\u001b[39m.\u001b[39mgridline\u001b[39m.\u001b[39mset_clip_path(clippath, transform)\n\u001b[0;32m    241\u001b[0m     \u001b[39mself\u001b[39m\u001b[39m.\u001b[39mstale \u001b[39m=\u001b[39m \u001b[39mTrue\u001b[39;00m\n",
      "File \u001b[1;32m~\\AppData\\Roaming\\Python\\Python310\\site-packages\\matplotlib\\artist.py:808\u001b[0m, in \u001b[0;36mArtist.set_clip_path\u001b[1;34m(self, path, transform)\u001b[0m\n\u001b[0;32m    806\u001b[0m \u001b[39mif\u001b[39;00m transform \u001b[39mis\u001b[39;00m \u001b[39mNone\u001b[39;00m:\n\u001b[0;32m    807\u001b[0m     \u001b[39mif\u001b[39;00m \u001b[39misinstance\u001b[39m(path, Rectangle):\n\u001b[1;32m--> 808\u001b[0m         \u001b[39mself\u001b[39m\u001b[39m.\u001b[39mclipbox \u001b[39m=\u001b[39m TransformedBbox(Bbox\u001b[39m.\u001b[39;49munit(),\n\u001b[0;32m    809\u001b[0m                                        path\u001b[39m.\u001b[39mget_transform())\n\u001b[0;32m    810\u001b[0m         \u001b[39mself\u001b[39m\u001b[39m.\u001b[39m_clippath \u001b[39m=\u001b[39m \u001b[39mNone\u001b[39;00m\n\u001b[0;32m    811\u001b[0m         success \u001b[39m=\u001b[39m \u001b[39mTrue\u001b[39;00m\n",
      "File \u001b[1;32m~\\AppData\\Roaming\\Python\\Python310\\site-packages\\matplotlib\\transforms.py:793\u001b[0m, in \u001b[0;36mBbox.unit\u001b[1;34m()\u001b[0m\n\u001b[0;32m    790\u001b[0m \u001b[39m@staticmethod\u001b[39m\n\u001b[0;32m    791\u001b[0m \u001b[39mdef\u001b[39;00m \u001b[39munit\u001b[39m():\n\u001b[0;32m    792\u001b[0m \u001b[39m    \u001b[39m\u001b[39m\"\"\"Create a new unit `Bbox` from (0, 0) to (1, 1).\"\"\"\u001b[39;00m\n\u001b[1;32m--> 793\u001b[0m     \u001b[39mreturn\u001b[39;00m Bbox([[\u001b[39m0\u001b[39;49m, \u001b[39m0\u001b[39;49m], [\u001b[39m1\u001b[39;49m, \u001b[39m1\u001b[39;49m]])\n",
      "File \u001b[1;32m~\\AppData\\Roaming\\Python\\Python310\\site-packages\\matplotlib\\transforms.py:772\u001b[0m, in \u001b[0;36mBbox.__init__\u001b[1;34m(self, points, **kwargs)\u001b[0m\n\u001b[0;32m    768\u001b[0m \u001b[39mself\u001b[39m\u001b[39m.\u001b[39m_ignore \u001b[39m=\u001b[39m \u001b[39mTrue\u001b[39;00m\n\u001b[0;32m    769\u001b[0m \u001b[39m# it is helpful in some contexts to know if the bbox is a\u001b[39;00m\n\u001b[0;32m    770\u001b[0m \u001b[39m# default or has been mutated; we store the orig points to\u001b[39;00m\n\u001b[0;32m    771\u001b[0m \u001b[39m# support the mutated methods\u001b[39;00m\n\u001b[1;32m--> 772\u001b[0m \u001b[39mself\u001b[39m\u001b[39m.\u001b[39m_points_orig \u001b[39m=\u001b[39m \u001b[39mself\u001b[39;49m\u001b[39m.\u001b[39;49m_points\u001b[39m.\u001b[39;49mcopy()\n",
      "\u001b[1;31mKeyboardInterrupt\u001b[0m: "
     ]
    }
   ],
   "source": [
    "ax1 = plt.subplot(1, 2, 1, projection=\"3d\")\n",
    "ax2 = plt.subplot(1, 2, 2)\n",
    "plt.pause(5)\n",
    "for j in range(len(p.ws)):\n",
    "    ax1.clear()\n",
    "    ax1.set_title('Boston house prices')\n",
    "    ax1.set_xlabel('RM')\n",
    "    ax1.set_ylabel('ZN')\n",
    "    ax1.set_zlabel('PRICE')\n",
    "    ax1.legend(['data','perceptron prediction'])\n",
    "    ax1.scatter(data_selected['RM'], data_selected['ZN'], data_selected['PRICE'], c='blue')\n",
    "    W = p.ws[j]\n",
    "    W = W[::-1] \n",
    "    xx, yy, z = parameter_surface(W, p.bs[j])\n",
    "    ax1.plot_surface(xx, yy, z.T, alpha=0.4, color='g')\n",
    "\n",
    "    ax2.clear()\n",
    "    ax2.plot(p.losses_train[:j])\n",
    "    ax2.set_title(\"Loss Train\")\n",
    "    ax2.set_xlabel(\"Epoch\")\n",
    "    ax2.set_ylabel(\"Loss\")\n",
    "\n",
    "    plt.pause(0.01)\n",
    "plt.show()"
   ]
  },
  {
   "cell_type": "code",
   "execution_count": 13,
   "metadata": {},
   "outputs": [
    {
     "data": {
      "text/plain": [
       "0.6260801449745504"
      ]
     },
     "execution_count": 13,
     "metadata": {},
     "output_type": "execute_result"
    }
   ],
   "source": [
    "p.ws[j][0]"
   ]
  },
  {
   "cell_type": "code",
   "execution_count": 12,
   "metadata": {},
   "outputs": [
    {
     "data": {
      "text/plain": [
       "[array([[0.25123373, 1.26756752]]),\n",
       " array([[0.25123373, 1.26756752]]),\n",
       " array([[0.25123373, 1.26756752]]),\n",
       " array([[0.25123373, 1.26756752]]),\n",
       " array([[0.25123373, 1.26756752]]),\n",
       " array([[0.25123373, 1.26756752]]),\n",
       " array([[0.25123373, 1.26756752]]),\n",
       " array([[0.25123373, 1.26756752]]),\n",
       " array([[0.25123373, 1.26756752]]),\n",
       " array([[0.25123373, 1.26756752]]),\n",
       " array([[0.25123373, 1.26756752]]),\n",
       " array([[0.25123373, 1.26756752]]),\n",
       " array([[0.25123373, 1.26756752]]),\n",
       " array([[0.25123373, 1.26756752]]),\n",
       " array([[0.25123373, 1.26756752]]),\n",
       " array([[0.25123373, 1.26756752]]),\n",
       " array([[0.25123373, 1.26756752]]),\n",
       " array([[0.25123373, 1.26756752]]),\n",
       " array([[0.25123373, 1.26756752]]),\n",
       " array([[0.25123373, 1.26756752]]),\n",
       " array([[0.25123373, 1.26756752]]),\n",
       " array([[0.25123373, 1.26756752]]),\n",
       " array([[0.25123373, 1.26756752]]),\n",
       " array([[0.25123373, 1.26756752]]),\n",
       " array([[0.25123373, 1.26756752]]),\n",
       " array([[0.25123373, 1.26756752]]),\n",
       " array([[0.25123373, 1.26756752]]),\n",
       " array([[0.25123373, 1.26756752]]),\n",
       " array([[0.25123373, 1.26756752]]),\n",
       " array([[0.25123373, 1.26756752]]),\n",
       " array([[0.25123373, 1.26756752]]),\n",
       " array([[0.25123373, 1.26756752]]),\n",
       " array([[0.25123373, 1.26756752]]),\n",
       " array([[0.25123373, 1.26756752]]),\n",
       " array([[0.25123373, 1.26756752]]),\n",
       " array([[0.25123373, 1.26756752]]),\n",
       " array([[0.25123373, 1.26756752]]),\n",
       " array([[0.25123373, 1.26756752]]),\n",
       " array([[0.25123373, 1.26756752]]),\n",
       " array([[0.25123373, 1.26756752]]),\n",
       " array([[0.25123373, 1.26756752]]),\n",
       " array([[0.25123373, 1.26756752]]),\n",
       " array([[0.25123373, 1.26756752]]),\n",
       " array([[0.25123373, 1.26756752]]),\n",
       " array([[0.25123373, 1.26756752]]),\n",
       " array([[0.25123373, 1.26756752]]),\n",
       " array([[0.25123373, 1.26756752]]),\n",
       " array([[0.25123373, 1.26756752]]),\n",
       " array([[0.25123373, 1.26756752]]),\n",
       " array([[0.25123373, 1.26756752]]),\n",
       " array([[0.25123373, 1.26756752]]),\n",
       " array([[0.25123373, 1.26756752]]),\n",
       " array([[0.25123373, 1.26756752]]),\n",
       " array([[0.25123373, 1.26756752]]),\n",
       " array([[0.25123373, 1.26756752]]),\n",
       " array([[0.25123373, 1.26756752]]),\n",
       " array([[0.25123373, 1.26756752]]),\n",
       " array([[0.25123373, 1.26756752]]),\n",
       " array([[0.25123373, 1.26756752]]),\n",
       " array([[0.25123373, 1.26756752]]),\n",
       " array([[0.25123373, 1.26756752]]),\n",
       " array([[0.25123373, 1.26756752]]),\n",
       " array([[0.25123373, 1.26756752]]),\n",
       " array([[0.25123373, 1.26756752]]),\n",
       " array([[0.25123373, 1.26756752]]),\n",
       " array([[0.25123373, 1.26756752]]),\n",
       " array([[0.25123373, 1.26756752]]),\n",
       " array([[0.25123373, 1.26756752]]),\n",
       " array([[0.25123373, 1.26756752]]),\n",
       " array([[0.25123373, 1.26756752]]),\n",
       " array([[0.25123373, 1.26756752]]),\n",
       " array([[0.25123373, 1.26756752]]),\n",
       " array([[0.25123373, 1.26756752]]),\n",
       " array([[0.25123373, 1.26756752]]),\n",
       " array([[0.25123373, 1.26756752]]),\n",
       " array([[0.25123373, 1.26756752]]),\n",
       " array([[0.25123373, 1.26756752]]),\n",
       " array([[0.25123373, 1.26756752]]),\n",
       " array([[0.25123373, 1.26756752]]),\n",
       " array([[0.25123373, 1.26756752]]),\n",
       " array([[0.25123373, 1.26756752]]),\n",
       " array([[0.25123373, 1.26756752]]),\n",
       " array([[0.25123373, 1.26756752]]),\n",
       " array([[0.25123373, 1.26756752]]),\n",
       " array([[0.25123373, 1.26756752]]),\n",
       " array([[0.25123373, 1.26756752]]),\n",
       " array([[0.25123373, 1.26756752]]),\n",
       " array([[0.25123373, 1.26756752]]),\n",
       " array([[0.25123373, 1.26756752]]),\n",
       " array([[0.25123373, 1.26756752]]),\n",
       " array([[0.25123373, 1.26756752]]),\n",
       " array([[0.25123373, 1.26756752]]),\n",
       " array([[0.25123373, 1.26756752]]),\n",
       " array([[0.25123373, 1.26756752]]),\n",
       " array([[0.25123373, 1.26756752]]),\n",
       " array([[0.25123373, 1.26756752]]),\n",
       " array([[0.25123373, 1.26756752]]),\n",
       " array([[0.25123373, 1.26756752]]),\n",
       " array([[0.25123373, 1.26756752]]),\n",
       " array([[0.25123373, 1.26756752]]),\n",
       " array([[0.25123373, 1.26756752]]),\n",
       " array([[0.25123373, 1.26756752]]),\n",
       " array([[0.25123373, 1.26756752]]),\n",
       " array([[0.25123373, 1.26756752]]),\n",
       " array([[0.25123373, 1.26756752]]),\n",
       " array([[0.25123373, 1.26756752]]),\n",
       " array([[0.25123373, 1.26756752]]),\n",
       " array([[0.25123373, 1.26756752]]),\n",
       " array([[0.25123373, 1.26756752]]),\n",
       " array([[0.25123373, 1.26756752]]),\n",
       " array([[0.25123373, 1.26756752]]),\n",
       " array([[0.25123373, 1.26756752]]),\n",
       " array([[0.25123373, 1.26756752]]),\n",
       " array([[0.25123373, 1.26756752]]),\n",
       " array([[0.25123373, 1.26756752]]),\n",
       " array([[0.25123373, 1.26756752]]),\n",
       " array([[0.25123373, 1.26756752]]),\n",
       " array([[0.25123373, 1.26756752]]),\n",
       " array([[0.25123373, 1.26756752]]),\n",
       " array([[0.25123373, 1.26756752]]),\n",
       " array([[0.25123373, 1.26756752]]),\n",
       " array([[0.25123373, 1.26756752]]),\n",
       " array([[0.25123373, 1.26756752]]),\n",
       " array([[0.25123373, 1.26756752]]),\n",
       " array([[0.25123373, 1.26756752]]),\n",
       " array([[0.25123373, 1.26756752]]),\n",
       " array([[0.25123373, 1.26756752]]),\n",
       " array([[0.25123373, 1.26756752]]),\n",
       " array([[0.25123373, 1.26756752]]),\n",
       " array([[0.25123373, 1.26756752]]),\n",
       " array([[0.25123373, 1.26756752]]),\n",
       " array([[0.25123373, 1.26756752]]),\n",
       " array([[0.25123373, 1.26756752]]),\n",
       " array([[0.25123373, 1.26756752]]),\n",
       " array([[0.25123373, 1.26756752]]),\n",
       " array([[0.25123373, 1.26756752]]),\n",
       " array([[0.25123373, 1.26756752]]),\n",
       " array([[0.25123373, 1.26756752]]),\n",
       " array([[0.25123373, 1.26756752]]),\n",
       " array([[0.25123373, 1.26756752]]),\n",
       " array([[0.25123373, 1.26756752]]),\n",
       " array([[0.25123373, 1.26756752]]),\n",
       " array([[0.25123373, 1.26756752]]),\n",
       " array([[0.25123373, 1.26756752]]),\n",
       " array([[0.25123373, 1.26756752]]),\n",
       " array([[0.25123373, 1.26756752]]),\n",
       " array([[0.25123373, 1.26756752]]),\n",
       " array([[0.25123373, 1.26756752]]),\n",
       " array([[0.25123373, 1.26756752]]),\n",
       " array([[0.25123373, 1.26756752]])]"
      ]
     },
     "execution_count": 12,
     "metadata": {},
     "output_type": "execute_result"
    }
   ],
   "source": [
    "p.ws"
   ]
  }
 ],
 "metadata": {
  "kernelspec": {
   "display_name": "Python 3",
   "language": "python",
   "name": "python3"
  },
  "language_info": {
   "codemirror_mode": {
    "name": "ipython",
    "version": 3
   },
   "file_extension": ".py",
   "mimetype": "text/x-python",
   "name": "python",
   "nbconvert_exporter": "python",
   "pygments_lexer": "ipython3",
   "version": "3.10.5"
  },
  "orig_nbformat": 4
 },
 "nbformat": 4,
 "nbformat_minor": 2
}
