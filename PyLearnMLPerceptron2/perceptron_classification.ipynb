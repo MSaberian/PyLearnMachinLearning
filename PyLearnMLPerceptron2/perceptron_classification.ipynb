{
 "cells": [
  {
   "cell_type": "code",
   "execution_count": 40,
   "metadata": {},
   "outputs": [],
   "source": [
    "import numpy as np\n",
    "import pandas as pd\n",
    "from sklearn.model_selection import train_test_split\n",
    "from tqdm import tqdm\n",
    "import matplotlib.pyplot as plt"
   ]
  },
  {
   "cell_type": "code",
   "execution_count": 3,
   "metadata": {},
   "outputs": [
    {
     "data": {
      "text/html": [
       "<div>\n",
       "<style scoped>\n",
       "    .dataframe tbody tr th:only-of-type {\n",
       "        vertical-align: middle;\n",
       "    }\n",
       "\n",
       "    .dataframe tbody tr th {\n",
       "        vertical-align: top;\n",
       "    }\n",
       "\n",
       "    .dataframe thead th {\n",
       "        text-align: right;\n",
       "    }\n",
       "</style>\n",
       "<table border=\"1\" class=\"dataframe\">\n",
       "  <thead>\n",
       "    <tr style=\"text-align: right;\">\n",
       "      <th></th>\n",
       "      <th>bmi</th>\n",
       "      <th>Age</th>\n",
       "      <th>asa_status</th>\n",
       "      <th>baseline_cancer</th>\n",
       "      <th>baseline_charlson</th>\n",
       "      <th>baseline_cvd</th>\n",
       "      <th>baseline_dementia</th>\n",
       "      <th>baseline_diabetes</th>\n",
       "      <th>baseline_digestive</th>\n",
       "      <th>baseline_osteoart</th>\n",
       "      <th>...</th>\n",
       "      <th>complication_rsi</th>\n",
       "      <th>dow</th>\n",
       "      <th>gender</th>\n",
       "      <th>hour</th>\n",
       "      <th>month</th>\n",
       "      <th>moonphase</th>\n",
       "      <th>mort30</th>\n",
       "      <th>mortality_rsi</th>\n",
       "      <th>race</th>\n",
       "      <th>complication</th>\n",
       "    </tr>\n",
       "  </thead>\n",
       "  <tbody>\n",
       "    <tr>\n",
       "      <th>14630</th>\n",
       "      <td>18.79</td>\n",
       "      <td>14.1</td>\n",
       "      <td>1</td>\n",
       "      <td>0</td>\n",
       "      <td>1</td>\n",
       "      <td>0</td>\n",
       "      <td>0</td>\n",
       "      <td>0</td>\n",
       "      <td>0</td>\n",
       "      <td>0</td>\n",
       "      <td>...</td>\n",
       "      <td>-0.54</td>\n",
       "      <td>1</td>\n",
       "      <td>0</td>\n",
       "      <td>7.78</td>\n",
       "      <td>0</td>\n",
       "      <td>1</td>\n",
       "      <td>0</td>\n",
       "      <td>-0.16</td>\n",
       "      <td>1</td>\n",
       "      <td>1</td>\n",
       "    </tr>\n",
       "    <tr>\n",
       "      <th>14631</th>\n",
       "      <td>19.65</td>\n",
       "      <td>12.6</td>\n",
       "      <td>0</td>\n",
       "      <td>0</td>\n",
       "      <td>0</td>\n",
       "      <td>0</td>\n",
       "      <td>0</td>\n",
       "      <td>0</td>\n",
       "      <td>0</td>\n",
       "      <td>0</td>\n",
       "      <td>...</td>\n",
       "      <td>-1.42</td>\n",
       "      <td>4</td>\n",
       "      <td>0</td>\n",
       "      <td>8.40</td>\n",
       "      <td>6</td>\n",
       "      <td>1</td>\n",
       "      <td>0</td>\n",
       "      <td>-0.77</td>\n",
       "      <td>1</td>\n",
       "      <td>1</td>\n",
       "    </tr>\n",
       "    <tr>\n",
       "      <th>14632</th>\n",
       "      <td>14.84</td>\n",
       "      <td>12.6</td>\n",
       "      <td>1</td>\n",
       "      <td>0</td>\n",
       "      <td>0</td>\n",
       "      <td>0</td>\n",
       "      <td>0</td>\n",
       "      <td>0</td>\n",
       "      <td>0</td>\n",
       "      <td>0</td>\n",
       "      <td>...</td>\n",
       "      <td>0.65</td>\n",
       "      <td>0</td>\n",
       "      <td>0</td>\n",
       "      <td>13.25</td>\n",
       "      <td>3</td>\n",
       "      <td>3</td>\n",
       "      <td>0</td>\n",
       "      <td>0.99</td>\n",
       "      <td>1</td>\n",
       "      <td>1</td>\n",
       "    </tr>\n",
       "    <tr>\n",
       "      <th>14633</th>\n",
       "      <td>17.75</td>\n",
       "      <td>8.9</td>\n",
       "      <td>0</td>\n",
       "      <td>0</td>\n",
       "      <td>1</td>\n",
       "      <td>0</td>\n",
       "      <td>0</td>\n",
       "      <td>0</td>\n",
       "      <td>1</td>\n",
       "      <td>0</td>\n",
       "      <td>...</td>\n",
       "      <td>-0.50</td>\n",
       "      <td>0</td>\n",
       "      <td>1</td>\n",
       "      <td>8.30</td>\n",
       "      <td>5</td>\n",
       "      <td>0</td>\n",
       "      <td>0</td>\n",
       "      <td>0.17</td>\n",
       "      <td>1</td>\n",
       "      <td>1</td>\n",
       "    </tr>\n",
       "    <tr>\n",
       "      <th>14634</th>\n",
       "      <td>14.40</td>\n",
       "      <td>6.1</td>\n",
       "      <td>1</td>\n",
       "      <td>0</td>\n",
       "      <td>1</td>\n",
       "      <td>0</td>\n",
       "      <td>0</td>\n",
       "      <td>0</td>\n",
       "      <td>1</td>\n",
       "      <td>0</td>\n",
       "      <td>...</td>\n",
       "      <td>0.78</td>\n",
       "      <td>2</td>\n",
       "      <td>0</td>\n",
       "      <td>7.65</td>\n",
       "      <td>4</td>\n",
       "      <td>1</td>\n",
       "      <td>0</td>\n",
       "      <td>1.06</td>\n",
       "      <td>0</td>\n",
       "      <td>1</td>\n",
       "    </tr>\n",
       "  </tbody>\n",
       "</table>\n",
       "<p>5 rows × 25 columns</p>\n",
       "</div>"
      ],
      "text/plain": [
       "         bmi   Age  asa_status  baseline_cancer  baseline_charlson  \\\n",
       "14630  18.79  14.1           1                0                  1   \n",
       "14631  19.65  12.6           0                0                  0   \n",
       "14632  14.84  12.6           1                0                  0   \n",
       "14633  17.75   8.9           0                0                  1   \n",
       "14634  14.40   6.1           1                0                  1   \n",
       "\n",
       "       baseline_cvd  baseline_dementia  baseline_diabetes  baseline_digestive  \\\n",
       "14630             0                  0                  0                   0   \n",
       "14631             0                  0                  0                   0   \n",
       "14632             0                  0                  0                   0   \n",
       "14633             0                  0                  0                   1   \n",
       "14634             0                  0                  0                   1   \n",
       "\n",
       "       baseline_osteoart  ...  complication_rsi  dow  gender   hour  month  \\\n",
       "14630                  0  ...             -0.54    1       0   7.78      0   \n",
       "14631                  0  ...             -1.42    4       0   8.40      6   \n",
       "14632                  0  ...              0.65    0       0  13.25      3   \n",
       "14633                  0  ...             -0.50    0       1   8.30      5   \n",
       "14634                  0  ...              0.78    2       0   7.65      4   \n",
       "\n",
       "       moonphase  mort30  mortality_rsi  race  complication  \n",
       "14630          1       0          -0.16     1             1  \n",
       "14631          1       0          -0.77     1             1  \n",
       "14632          3       0           0.99     1             1  \n",
       "14633          0       0           0.17     1             1  \n",
       "14634          1       0           1.06     0             1  \n",
       "\n",
       "[5 rows x 25 columns]"
      ]
     },
     "execution_count": 3,
     "metadata": {},
     "output_type": "execute_result"
    }
   ],
   "source": [
    "df = pd.read_csv(\"Surgical-deepnet.csv\")\n",
    "df.tail()"
   ]
  },
  {
   "cell_type": "code",
   "execution_count": 4,
   "metadata": {},
   "outputs": [
    {
     "data": {
      "text/plain": [
       "bmi                    0\n",
       "Age                    0\n",
       "asa_status             0\n",
       "baseline_cancer        0\n",
       "baseline_charlson      0\n",
       "baseline_cvd           0\n",
       "baseline_dementia      0\n",
       "baseline_diabetes      0\n",
       "baseline_digestive     0\n",
       "baseline_osteoart      0\n",
       "baseline_psych         0\n",
       "baseline_pulmonary     0\n",
       "ahrq_ccs               0\n",
       "ccsComplicationRate    0\n",
       "ccsMort30Rate          0\n",
       "complication_rsi       0\n",
       "dow                    0\n",
       "gender                 0\n",
       "hour                   0\n",
       "month                  0\n",
       "moonphase              0\n",
       "mort30                 0\n",
       "mortality_rsi          0\n",
       "race                   0\n",
       "complication           0\n",
       "dtype: int64"
      ]
     },
     "execution_count": 4,
     "metadata": {},
     "output_type": "execute_result"
    }
   ],
   "source": [
    "df.isnull().sum()"
   ]
  },
  {
   "cell_type": "code",
   "execution_count": 5,
   "metadata": {},
   "outputs": [
    {
     "data": {
      "text/plain": [
       "((11708, 24), (2927, 24), (11708,), (2927,))"
      ]
     },
     "execution_count": 5,
     "metadata": {},
     "output_type": "execute_result"
    }
   ],
   "source": [
    "X = df.drop('complication', axis=1).copy().values\n",
    "Y = df['complication'].copy().values\n",
    "\n",
    "X_train, X_test, Y_train, Y_test = train_test_split(X, Y, test_size=0.2)\n",
    "X_train.shape, X_test.shape, Y_train.shape, Y_test.shape"
   ]
  },
  {
   "cell_type": "code",
   "execution_count": 55,
   "metadata": {},
   "outputs": [],
   "source": [
    "class Perceptron:\n",
    "    def __init__(self, input_length, learning_rate, function=\"sigmoid\"):\n",
    "        self.W = np.random.rand(input_length)\n",
    "        self.b = np.random.rand(1)\n",
    "        self.learning_rate = learning_rate\n",
    "        self.function = function\n",
    "    \n",
    "    def activation(self, x):\n",
    "        if self.function == \"sigmoid\":\n",
    "            return 1 / (1 + np.exp(-x))\n",
    "        elif self.function == \"relu\":\n",
    "            return np.maximum(0, x)\n",
    "        elif self.function == \"tanh\":\n",
    "            return (np.exp(x) - np.exp(-x)) / (np.exp(x) + np.exp(-x))\n",
    "        elif self.function == \"linear\":\n",
    "            return x\n",
    "        elif self.function == \"Leaky ReLU\":\n",
    "            if x >= 0:\n",
    "                return x\n",
    "            else:\n",
    "                return 0.2*x\n",
    "        else:\n",
    "            raise Exception(\"Not supported activation function\")\n",
    "\n",
    "    def forward(self, x):\n",
    "        return self.activation(x @ self.W + self.b)\n",
    "    \n",
    "    def back_propagation(self, x_train, y_train, y_pred):\n",
    "        dW = (y_pred - y_train) * x_train\n",
    "        db = (y_pred - y_train)\n",
    "        return dW, db\n",
    "    \n",
    "    def update(self, dW, db):\n",
    "        self.W = self.W - self.learning_rate * dW\n",
    "        self.b = self.b - self.learning_rate * db\n",
    "\n",
    "    def fit(self, X_train, Y_train, X_test, Y_test, epochs):\n",
    "        L_train = []\n",
    "        A_train = []\n",
    "        L_test = []\n",
    "        A_test = []\n",
    "        for epoch in tqdm(range(epochs)):\n",
    "            for x_train, y_train in zip(X_train, Y_train):\n",
    "                y_pred = self.forward(x_train)\n",
    "                dW, db = self.back_propagation(x_train, y_train, y_pred)\n",
    "                self.update(dW, db)\n",
    "            loss_train, accuracy_train = self.evaluate(X_train, Y_train)\n",
    "            loss_test, accuracy_test = self.evaluate(X_test, Y_test)\n",
    "            L_train.append(loss_train)\n",
    "            A_train.append(accuracy_train)\n",
    "            L_test.append(loss_test)\n",
    "            A_test.append(accuracy_test)\n",
    "        return L_train, A_train, L_test, A_test\n",
    "\n",
    "    def predict(self, X_test):\n",
    "        Y_pred = []\n",
    "        for x_test in X_test:\n",
    "            y_pred = self.forward(x_test)\n",
    "            Y_pred.append(y_pred)\n",
    "        return np.array(Y_pred)\n",
    "    \n",
    "    def calc_loss(self, X_test, Y_test, metric='mse'):\n",
    "        y_pred = self.predict(X_test)\n",
    "        if metric == 'mse':\n",
    "            loss = np.mean((y_pred - Y_test) ** 2)\n",
    "        elif metric == 'mae':\n",
    "            loss = np.mean(np.abs(y_pred - Y_test))\n",
    "        else:\n",
    "            raise Exception('Not supported metric')\n",
    "        return loss\n",
    "    \n",
    "    def calc_accuracy(self, X_test, Y_test):\n",
    "        Y_pred = self.predict(X_test)\n",
    "        Y_pred = Y_pred > 0.5\n",
    "        accuracy = np.mean(Y_pred == Y_test)\n",
    "        return accuracy\n",
    "\n",
    "    def evaluate(self, X_test, Y_test):\n",
    "        loss = self.calc_loss(X_test, Y_test)\n",
    "        accuracy = self.calc_accuracy(X_test, Y_test)\n",
    "        return loss, accuracy\n"
   ]
  },
  {
   "cell_type": "code",
   "execution_count": 50,
   "metadata": {},
   "outputs": [
    {
     "name": "stderr",
     "output_type": "stream",
     "text": [
      "100%|██████████| 200/200 [18:04<00:00,  5.42s/it]\n"
     ]
    }
   ],
   "source": [
    "model = Perceptron(X.shape[1], learning_rate=0.0001)\n",
    "L_train, A_train, L_test, A_test = model.fit(X_train, Y_train, X_test, Y_test, epochs=200)"
   ]
  },
  {
   "cell_type": "code",
   "execution_count": 51,
   "metadata": {},
   "outputs": [
    {
     "data": {
      "image/png": "[encoded data removed]",
      "text/plain": [
       "<Figure size 1200x600 with 2 Axes>"
      ]
     },
     "metadata": {},
     "output_type": "display_data"
    }
   ],
   "source": [
    "fig, (ax1, ax2) = plt.subplots(1, 2, figsize=(12,6))\n",
    "\n",
    "ax1.plot(A_train)\n",
    "ax1.plot(A_test)\n",
    "ax1.set_title(\"Model Accuracy\")\n",
    "ax1.set_xlabel(\"epoch\")\n",
    "ax1.set_ylabel(\"Accuracy\")\n",
    "ax1.legend(['train','test'])\n",
    "\n",
    "ax2.plot(L_train)\n",
    "ax2.plot(L_test)\n",
    "ax2.set_title(\"Model loss\")\n",
    "ax2.set_xlabel(\"epoch\")\n",
    "ax2.set_ylabel(\"Loss\")\n",
    "ax2.legend(['train','test'])\n",
    "\n",
    "plt.show()"
   ]
  },
  {
   "cell_type": "code",
   "execution_count": 56,
   "metadata": {},
   "outputs": [
    {
     "name": "stderr",
     "output_type": "stream",
     "text": [
      "  0%|          | 0/100 [00:00<?, ?it/s]"
     ]
    },
    {
     "name": "stderr",
     "output_type": "stream",
     "text": [
      "100%|██████████| 100/100 [07:56<00:00,  4.77s/it]\n"
     ]
    },
    {
     "name": "stdout",
     "output_type": "stream",
     "text": [
      "function: sigmoid, accuracy: 0.6397621709169801, loss: 0.2449088609972535\n"
     ]
    },
    {
     "name": "stderr",
     "output_type": "stream",
     "text": [
      "100%|██████████| 100/100 [07:36<00:00,  4.57s/it]\n"
     ]
    },
    {
     "name": "stdout",
     "output_type": "stream",
     "text": [
      "function: relu, accuracy: 0.6765826315296167, loss: 0.256461451164699\n"
     ]
    },
    {
     "name": "stderr",
     "output_type": "stream",
     "text": [
      "100%|██████████| 100/100 [07:55<00:00,  4.76s/it]\n"
     ]
    },
    {
     "name": "stdout",
     "output_type": "stream",
     "text": [
      "function: tanh, accuracy: 0.6826329419589232, loss: 0.2378631335641936\n"
     ]
    },
    {
     "name": "stderr",
     "output_type": "stream",
     "text": [
      "100%|██████████| 100/100 [07:04<00:00,  4.25s/it]\n"
     ]
    },
    {
     "name": "stdout",
     "output_type": "stream",
     "text": [
      "function: linear, accuracy: 0.6895475824495593, loss: 0.2438685840380976\n"
     ]
    },
    {
     "name": "stderr",
     "output_type": "stream",
     "text": [
      "100%|██████████| 100/100 [07:15<00:00,  4.35s/it]"
     ]
    },
    {
     "name": "stdout",
     "output_type": "stream",
     "text": [
      "function: Leaky ReLU, accuracy: 0.6798670857626689, loss: 0.2515838352872938\n"
     ]
    },
    {
     "name": "stderr",
     "output_type": "stream",
     "text": [
      "\n"
     ]
    }
   ],
   "source": [
    "functions = ['sigmoid', 'relu', 'tanh', 'linear', 'Leaky ReLU']\n",
    "for function in functions:\n",
    "    model = Perceptron(X.shape[1], learning_rate=0.0001, function=function)\n",
    "    L_train, A_train, L_test, A_test = model.fit(X_train, Y_train, X_test, Y_test, epochs=100)\n",
    "    print(f'function: {function}, accuracy: {A_test[-1]}, loss: {L_test[-1]}')"
   ]
  },
  {
   "cell_type": "code",
   "execution_count": 66,
   "metadata": {},
   "outputs": [
    {
     "data": {
      "image/png": "[encoded data removed]",
      "text/plain": [
       "<Figure size 640x480 with 1 Axes>"
      ]
     },
     "metadata": {},
     "output_type": "display_data"
    }
   ],
   "source": [
    "Accuracy = [0.64, .677, .683, .69, .68]\n",
    "Loss = [0.245, .256, .238, .244, .252]\n",
    "function = ['sigmoid', 'relu', 'tanh', 'linear', 'Leaky ReLU']\n",
    "\n",
    "X_axis = np.arange(len(function))\n",
    "plt.bar(X_axis - 0.2, Accuracy, 0.4, label = 'Accuracy')\n",
    "plt.bar(X_axis + 0.2, Loss, 0.4, label = 'Loss')\n",
    "\n",
    "plt.xticks(X_axis, function)\n",
    "plt.title(\"Functions accuracy and loss\")\n",
    "plt.xlabel(\"Function\")\n",
    "plt.ylabel(\"Accuracy/Loss\")\n",
    "plt.legend(['Accuracy','Loss'])\n",
    "\n",
    "plt.show()"
   ]
  },
  {
   "cell_type": "code",
   "execution_count": 9,
   "metadata": {},
   "outputs": [
    {
     "data": {
      "text/plain": [
       "(0.26118137884295556, 0.6914491085844842)"
      ]
     },
     "execution_count": 9,
     "metadata": {},
     "output_type": "execute_result"
    }
   ],
   "source": [
    "model.evaluate(X_test, Y_test)"
   ]
  },
  {
   "cell_type": "code",
   "execution_count": 52,
   "metadata": {},
   "outputs": [],
   "source": [
    "Y_pred = model.predict(X_test)\n",
    "Y_pred = Y_pred > 0.5"
   ]
  },
  {
   "cell_type": "code",
   "execution_count": 57,
   "metadata": {},
   "outputs": [
    {
     "data": {
      "text/plain": [
       "array([[1933,  271],\n",
       "       [ 339,  384]], dtype=int64)"
      ]
     },
     "execution_count": 57,
     "metadata": {},
     "output_type": "execute_result"
    }
   ],
   "source": [
    "# confusion matrix\n",
    "\n",
    "from sklearn.metrics import confusion_matrix\n",
    "\n",
    "confusion_matrix(Y_test, Y_pred)"
   ]
  },
  {
   "cell_type": "code",
   "execution_count": 67,
   "metadata": {},
   "outputs": [
    {
     "data": {
      "image/png": "[encoded data removed]",
      "text/plain": [
       "<Figure size 500x400 with 2 Axes>"
      ]
     },
     "metadata": {},
     "output_type": "display_data"
    }
   ],
   "source": [
    "from sklearn.metrics import confusion_matrix, ConfusionMatrixDisplay\n",
    "import seaborn as sb\n",
    "\n",
    "cm = confusion_matrix(Y_test, Y_pred)\n",
    "cm_df = pd.DataFrame(cm,\n",
    "                     index = ['female','male'], \n",
    "                     columns = ['female','male'])\n",
    "\n",
    "plt.figure(figsize=(5,4))\n",
    "sb.heatmap(cm_df, annot=True, fmt='d', annot_kws={'size':13}, cmap=\"YlGnBu\")\n",
    "plt.title('Confusion Matrix in test data')\n",
    "plt.ylabel('Actal Values')\n",
    "plt.xlabel('Predicted Values')\n",
    "plt.show()"
   ]
  },
  {
   "cell_type": "code",
   "execution_count": 12,
   "metadata": {},
   "outputs": [
    {
     "name": "stdout",
     "output_type": "stream",
     "text": [
      "precision_score:  0.6741573033707865\n",
      "recall_score:  0.33195020746887965\n"
     ]
    }
   ],
   "source": [
    "# precision and recall\n",
    "\n",
    "from sklearn.metrics import precision_score, recall_score\n",
    "\n",
    "print('precision_score: ', precision_score(Y_test, Y_pred))\n",
    "print('recall_score: ', recall_score(Y_test, Y_pred))"
   ]
  }
 ],
 "metadata": {
  "kernelspec": {
   "display_name": "Python 3",
   "language": "python",
   "name": "python3"
  },
  "language_info": {
   "codemirror_mode": {
    "name": "ipython",
    "version": 3
   },
   "file_extension": ".py",
   "mimetype": "text/x-python",
   "name": "python",
   "nbconvert_exporter": "python",
   "pygments_lexer": "ipython3",
   "version": "3.10.5"
  },
  "orig_nbformat": 4
 },
 "nbformat": 4,
 "nbformat_minor": 2
}
