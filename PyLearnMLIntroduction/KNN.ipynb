{
 "cells": [
  {
   "cell_type": "code",
   "execution_count": 1,
   "metadata": {},
   "outputs": [],
   "source": [
    "import numpy as np\n",
    "import matplotlib.pyplot as plt"
   ]
  },
  {
   "cell_type": "code",
   "execution_count": 46,
   "metadata": {},
   "outputs": [],
   "source": [
    "n = 100\n",
    "apple_width = np.random.normal(6, 1, n)\n",
    "apple_length = np.random.normal(6, 1, n)\n",
    "banana_width = np.random.normal(4, 1, n)\n",
    "banana_length = np.random.normal(8, 1, n)\n",
    "Watermelon_width = np.random.normal(10, 1, n)\n",
    "Watermelon_length = np.random.normal(12, 1, n)"
   ]
  },
  {
   "cell_type": "code",
   "execution_count": 3,
   "metadata": {},
   "outputs": [],
   "source": [
    "x_width = 3\n",
    "x_length = 9\n",
    "\n",
    "y_width = 7\n",
    "y_length = 5\n",
    "\n",
    "z_width = 5\n",
    "z_length = 7"
   ]
  },
  {
   "cell_type": "code",
   "execution_count": 47,
   "metadata": {},
   "outputs": [
    {
     "data": {
      "image/png": "[encoded data removed]",
      "text/plain": [
       "<Figure size 640x480 with 1 Axes>"
      ]
     },
     "metadata": {},
     "output_type": "display_data"
    }
   ],
   "source": [
    "plt.scatter(apple_width, apple_length, c = 'red', marker='.')\n",
    "plt.scatter(banana_width, banana_length, c = 'orange', marker='.')\n",
    "plt.scatter(Watermelon_width, Watermelon_length, c = 'c', marker='.')\n",
    "plt.scatter(x_width, x_length, c = 'blue', marker='o')\n",
    "plt.scatter(y_width, y_length, c = 'green', marker='o')\n",
    "plt.scatter(z_width, z_length, c = 'black', marker='o')\n",
    "plt.show()"
   ]
  },
  {
   "cell_type": "code",
   "execution_count": 48,
   "metadata": {},
   "outputs": [],
   "source": [
    "width = np.concatenate((apple_width, banana_width, Watermelon_width))\n",
    "length = np.concatenate((apple_length, banana_length, Watermelon_length))\n",
    "\n",
    "X_train = np.array([width, length]).T"
   ]
  },
  {
   "cell_type": "code",
   "execution_count": 49,
   "metadata": {},
   "outputs": [],
   "source": [
    "Y_apples = np.zeros(n, dtype='int')\n",
    "Y_banana = np.ones(n, dtype='int')\n",
    "Y_Watermelon = np.ones(n, dtype='int')*2\n",
    "Y_train = np.concatenate((Y_apples, Y_banana,Y_Watermelon))"
   ]
  },
  {
   "cell_type": "code",
   "execution_count": 7,
   "metadata": {},
   "outputs": [],
   "source": [
    "def euclidean_distance(x1,x2):\n",
    "    return np.sqrt(np.sum((x1-x2)**2))"
   ]
  },
  {
   "cell_type": "code",
   "execution_count": 8,
   "metadata": {},
   "outputs": [
    {
     "data": {
      "text/plain": [
       "6.708203932499369"
      ]
     },
     "execution_count": 8,
     "metadata": {},
     "output_type": "execute_result"
    }
   ],
   "source": [
    "mamad = np.array([4,5])\n",
    "sajjad = np.array([10,2])\n",
    "\n",
    "euclidean_distance(mamad, sajjad)"
   ]
  },
  {
   "cell_type": "code",
   "execution_count": 9,
   "metadata": {},
   "outputs": [
    {
     "data": {
      "text/plain": [
       "[2.031364837609215,\n",
       " 2.0912177823363765,\n",
       " 1.6676975065877233,\n",
       " 2.4102916274145514,\n",
       " 3.0621181733523346,\n",
       " 2.6460858116833452,\n",
       " 2.140647979454873,\n",
       " 0.7539434054334582,\n",
       " 0.576267158911469,\n",
       " 2.4815971011247804,\n",
       " 0.9723431267615109,\n",
       " 0.9684819317076642,\n",
       " 1.27818507195629,\n",
       " 1.1872168112092818,\n",
       " 2.118651122185429,\n",
       " 1.516914315756953,\n",
       " 0.6613157240447131,\n",
       " 0.9932384456834173,\n",
       " 1.0052799622844273,\n",
       " 2.772472964920268,\n",
       " 2.010568101655501,\n",
       " 1.4242123490536693,\n",
       " 3.173702624672687,\n",
       " 3.151889616484219,\n",
       " 2.532421550731971,\n",
       " 0.5398869774309845,\n",
       " 0.35342615522468296,\n",
       " 3.4304844208271414,\n",
       " 2.2664637421492366,\n",
       " 2.193778599730545,\n",
       " 0.7254523120304344,\n",
       " 3.5776600921131365,\n",
       " 1.5008344645776928,\n",
       " 1.703922754812664,\n",
       " 0.5332538869114919,\n",
       " 1.5685850260289183,\n",
       " 2.1436420348374803,\n",
       " 1.1723072055572947,\n",
       " 1.3730483527555097,\n",
       " 1.4304187116858547,\n",
       " 3.4785503440678673,\n",
       " 2.648453399698355,\n",
       " 2.3796746337728716,\n",
       " 1.9306399446258002,\n",
       " 3.3849748737206355,\n",
       " 2.1636013028823804,\n",
       " 3.091304506547383,\n",
       " 1.3235033814789188,\n",
       " 2.603773769748657,\n",
       " 1.6857735572948545,\n",
       " 1.896151096444588,\n",
       " 0.9202335601319636,\n",
       " 1.443846523852056,\n",
       " 1.1669727160106558,\n",
       " 1.4676865067234912,\n",
       " 1.0477606008001594,\n",
       " 2.036351390139923,\n",
       " 1.2254048309547498,\n",
       " 0.9651742555619596,\n",
       " 2.1680135357058576,\n",
       " 0.9790062081704214,\n",
       " 2.1090441386898395,\n",
       " 0.792841582097668,\n",
       " 1.1684908351146097,\n",
       " 0.7451023158103963,\n",
       " 0.7823686398663611,\n",
       " 2.9921094067745466,\n",
       " 2.666875327698867,\n",
       " 0.1104878124277544,\n",
       " 0.2923411986889863,\n",
       " 1.475502528405429,\n",
       " 2.264397824032446,\n",
       " 1.1290590192386423,\n",
       " 2.0781975624690894,\n",
       " 0.7895567817696142,\n",
       " 2.0944844456906213,\n",
       " 0.5238698837025476,\n",
       " 1.9118263908866888,\n",
       " 0.8647508103630449,\n",
       " 3.750383457678219,\n",
       " 0.9253378415987991,\n",
       " 0.9439933052171403,\n",
       " 0.8546415978732272,\n",
       " 1.672498415304126,\n",
       " 0.4898079910724983,\n",
       " 1.938138473271896,\n",
       " 1.6303702090566115,\n",
       " 2.775253530822319,\n",
       " 2.1521755658716994,\n",
       " 1.929280244610635,\n",
       " 1.3197890324970538,\n",
       " 0.6275116146595667,\n",
       " 1.7352323642637257,\n",
       " 2.0252943010271007,\n",
       " 0.5813917854567304,\n",
       " 1.9566385577232455,\n",
       " 2.627521269991601,\n",
       " 0.5938372020447956,\n",
       " 1.1736017537818406,\n",
       " 2.5496962279122717,\n",
       " 0.7025610045188364,\n",
       " 2.1137136828940633,\n",
       " 2.0571409427172003,\n",
       " 0.9663762349555041,\n",
       " 2.093020475248812,\n",
       " 3.5976378618200533,\n",
       " 2.0877809741674453,\n",
       " 2.119169261753975,\n",
       " 1.1089129469186776,\n",
       " 1.5307849880476485,\n",
       " 3.0108461261067934,\n",
       " 1.8455137715333088,\n",
       " 3.269180904500794,\n",
       " 1.91897747253851,\n",
       " 1.4855604935405773,\n",
       " 2.799877364805194,\n",
       " 1.840692451366933,\n",
       " 0.8688630075145645,\n",
       " 1.4174024435505423,\n",
       " 1.1720488178439217,\n",
       " 0.9903489631349877,\n",
       " 2.2389662239782413,\n",
       " 0.9804792234944246,\n",
       " 1.9858357853396127,\n",
       " 0.24856760506761383,\n",
       " 1.0049597216649766,\n",
       " 2.0169705420313013,\n",
       " 1.18580514630168,\n",
       " 3.052667417985231,\n",
       " 2.139304200051493,\n",
       " 2.4277403700818025,\n",
       " 1.4364109591130456,\n",
       " 1.8853177623423847,\n",
       " 1.0504166761247897,\n",
       " 1.0917763277986419,\n",
       " 2.6374320539477303,\n",
       " 1.7586179448373658,\n",
       " 2.982498121075909,\n",
       " 2.85333356549475,\n",
       " 1.2310751820750732,\n",
       " 1.1627886791476956,\n",
       " 0.7865682154849083,\n",
       " 1.324497445869679,\n",
       " 0.9016875982079989,\n",
       " 2.0009125483725874,\n",
       " 3.4794351041452316,\n",
       " 0.3453307892487928,\n",
       " 2.6272569556309002,\n",
       " 1.5434169560344546,\n",
       " 1.4463717490122119,\n",
       " 1.6439441047622532,\n",
       " 3.0509154425718035,\n",
       " 0.9684476432577093,\n",
       " 1.9226600032418715,\n",
       " 0.7322679854262466,\n",
       " 1.1652165715586802,\n",
       " 3.5870690757222614,\n",
       " 4.081412408960275,\n",
       " 3.097449360491077,\n",
       " 0.9380947153466882,\n",
       " 1.968324240206935,\n",
       " 1.8738114642557353,\n",
       " 1.421639010989554,\n",
       " 2.330951860857246,\n",
       " 1.8782615084684884,\n",
       " 1.0471219217676042,\n",
       " 2.445662158592338,\n",
       " 2.180558907856273,\n",
       " 2.1656262102588224,\n",
       " 2.071710983357358,\n",
       " 3.5816165533849498,\n",
       " 0.5639517149204597,\n",
       " 1.2532850268898614,\n",
       " 2.528426844724842,\n",
       " 2.2754810172230817,\n",
       " 3.254692351009891,\n",
       " 1.1236783461819313,\n",
       " 0.35831436383720744,\n",
       " 2.391795662912396,\n",
       " 3.1197646573504056,\n",
       " 1.5808683837211923,\n",
       " 1.9327267440829168,\n",
       " 2.2403750222843675,\n",
       " 1.9433978119712696,\n",
       " 1.2932550869382682,\n",
       " 0.7508911798370643,\n",
       " 0.754888184311913,\n",
       " 1.3917393171520793,\n",
       " 2.019092168473364,\n",
       " 1.0256567693745298,\n",
       " 1.013984421899429,\n",
       " 2.6401692695382266,\n",
       " 1.045870544945051,\n",
       " 0.5534368186067374,\n",
       " 0.832141643812629,\n",
       " 0.707267041521744,\n",
       " 3.705218224207591,\n",
       " 1.184972841768257,\n",
       " 1.4194994878634646,\n",
       " 2.214053919836195]"
      ]
     },
     "execution_count": 9,
     "metadata": {},
     "output_type": "execute_result"
    }
   ],
   "source": [
    "new_fruit = np.array([5, 7])\n",
    "\n",
    "distances = []\n",
    "for x in X_train:\n",
    "    d = euclidean_distance(new_fruit, x)\n",
    "    distances.append(d)\n",
    "\n",
    "distances"
   ]
  },
  {
   "cell_type": "code",
   "execution_count": 10,
   "metadata": {},
   "outputs": [
    {
     "data": {
      "text/plain": [
       "array([ 68, 124,  69, 146,  26], dtype=int64)"
      ]
     },
     "execution_count": 10,
     "metadata": {},
     "output_type": "execute_result"
    }
   ],
   "source": [
    "k = 5\n",
    "nearest_neighbors = np.argsort(distances)[0:k]\n",
    "nearest_neighbors"
   ]
  },
  {
   "cell_type": "code",
   "execution_count": 11,
   "metadata": {},
   "outputs": [
    {
     "data": {
      "text/plain": [
       "0.35342615522468296"
      ]
     },
     "execution_count": 11,
     "metadata": {},
     "output_type": "execute_result"
    }
   ],
   "source": [
    "max(np.sort(distances)[0:k])"
   ]
  },
  {
   "cell_type": "code",
   "execution_count": 12,
   "metadata": {},
   "outputs": [
    {
     "data": {
      "text/plain": [
       "array([0, 1, 0, 1, 0])"
      ]
     },
     "execution_count": 12,
     "metadata": {},
     "output_type": "execute_result"
    }
   ],
   "source": [
    "Y_train[nearest_neighbors]"
   ]
  },
  {
   "cell_type": "code",
   "execution_count": 13,
   "metadata": {},
   "outputs": [
    {
     "name": "stdout",
     "output_type": "stream",
     "text": [
      "🍎\n"
     ]
    }
   ],
   "source": [
    "result = np.bincount(Y_train[nearest_neighbors])\n",
    "if np.argmax(result) == 0:\n",
    "    print('🍎')\n",
    "else:\n",
    "    print('🍌')"
   ]
  },
  {
   "cell_type": "markdown",
   "metadata": {},
   "source": [
    "## My code"
   ]
  },
  {
   "cell_type": "code",
   "execution_count": 50,
   "metadata": {},
   "outputs": [],
   "source": [
    "n = 100\n",
    "apple_width = np.random.normal(6, 1, n)\n",
    "apple_length = np.random.normal(6, 1, n)\n",
    "banana_width = np.random.normal(4, 1, n)\n",
    "banana_length = np.random.normal(8, 1, n)\n",
    "Watermelon_width = np.random.normal(10, 1, n)\n",
    "Watermelon_length = np.random.normal(12, 1, n)"
   ]
  },
  {
   "cell_type": "code",
   "execution_count": 51,
   "metadata": {},
   "outputs": [],
   "source": [
    "width = np.concatenate((apple_width, banana_width, Watermelon_width))\n",
    "length = np.concatenate((apple_length, banana_length, Watermelon_length))\n",
    "\n",
    "X_train = np.array([width, length]).T\n",
    "\n",
    "Y_apples = np.zeros(n, dtype='int')\n",
    "Y_banana = np.ones(n, dtype='int')\n",
    "Y_Watermelon = np.ones(n, dtype='int')*2\n",
    "Y_train = np.concatenate((Y_apples, Y_banana,Y_Watermelon))"
   ]
  },
  {
   "cell_type": "code",
   "execution_count": 65,
   "metadata": {},
   "outputs": [],
   "source": [
    "k = 5\n",
    "def myKNN(X_train, Y_train, k, X_test):\n",
    "    distances = []\n",
    "    for x in X_train:\n",
    "        d = euclidean_distance(X_test, x)\n",
    "        d = np.sqrt(np.sum((X_test-x)**2))\n",
    "        distances.append(d)\n",
    "\n",
    "    nearest_neighbors = np.argsort(distances)[0:k]\n",
    "    result = np.bincount(Y_train[nearest_neighbors])\n",
    "    return np.argmax(result), max(np.sort(distances)[0:k])\n"
   ]
  },
  {
   "cell_type": "code",
   "execution_count": 66,
   "metadata": {},
   "outputs": [],
   "source": [
    "new_fruits = np.array([[5, 6],[5, 8],[4, 4],[9, 8],[7, 10],[4, 6],[2, 9],[6, 8],[12, 11],[11, 8]])\n",
    "results = []\n",
    "for new_fruit in new_fruits:\n",
    "    result, destance = myKNN(X_train, Y_train, k, new_fruit)\n",
    "    results.append([result, destance])\n"
   ]
  },
  {
   "cell_type": "code",
   "execution_count": 67,
   "metadata": {},
   "outputs": [
    {
     "data": {
      "image/png": "[encoded data removed]",
      "text/plain": [
       "<Figure size 640x480 with 1 Axes>"
      ]
     },
     "metadata": {},
     "output_type": "display_data"
    }
   ],
   "source": [
    "fig, ax = plt.subplots()\n",
    "plt.scatter(apple_width, apple_length, c = 'pink', marker='.')\n",
    "plt.scatter(banana_width, banana_length, c = 'yellow', marker='.')\n",
    "plt.scatter(Watermelon_width, Watermelon_length, c = 'c', marker='.')\n",
    "for i in range(len(new_fruits)):\n",
    "    if (results[i][0] == 1):\n",
    "        color = 'orange'\n",
    "    elif (results[i][0] == 0):\n",
    "        color = 'red'\n",
    "    else:\n",
    "        color = 'blue'\n",
    "    plt.scatter(new_fruits[i,0], new_fruits[i,1], c = color, marker='o')\n",
    "    circle = plt.Circle((new_fruits[i,0], new_fruits[i,1]), results[i][1], color=color, fill=False)\n",
    "    ax.add_patch(circle)\n",
    "plt.axis('equal')\n",
    "plt.title(f'KNN classification fruits (k={k})')\n",
    "plt.xlabel('width')\n",
    "plt.ylabel('length')\n",
    "plt.legend(['apple','banana','Watermelon'])\n",
    "plt.show()"
   ]
  }
 ],
 "metadata": {
  "kernelspec": {
   "display_name": "Python 3",
   "language": "python",
   "name": "python3"
  },
  "language_info": {
   "codemirror_mode": {
    "name": "ipython",
    "version": 3
   },
   "file_extension": ".py",
   "mimetype": "text/x-python",
   "name": "python",
   "nbconvert_exporter": "python",
   "pygments_lexer": "ipython3",
   "version": "3.10.5"
  },
  "orig_nbformat": 4
 },
 "nbformat": 4,
 "nbformat_minor": 2
}
